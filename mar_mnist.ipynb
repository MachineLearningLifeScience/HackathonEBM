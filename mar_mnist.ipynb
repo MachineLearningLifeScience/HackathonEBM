{
 "cells": [
  {
   "cell_type": "markdown",
   "metadata": {},
   "source": [
    " # Deep learning meets missing data: Doing it MIWAE on MAR MNIST"
   ]
  },
  {
   "cell_type": "markdown",
   "metadata": {},
   "source": [
    " In this notebook, we'll learn a deep generative model on the MAR‐masked MNIST dataset and impute its missing pixels."
   ]
  },
  {
   "cell_type": "markdown",
   "metadata": {},
   "source": [
    " # Installing and loading useful stuff"
   ]
  },
  {
   "cell_type": "code",
   "execution_count": 19,
   "metadata": {},
   "outputs": [
    {
     "name": "stdout",
     "output_type": "stream",
     "text": [
      "\n",
      "\u001b[1m[\u001b[0m\u001b[34;49mnotice\u001b[0m\u001b[1;39;49m]\u001b[0m\u001b[39;49m A new release of pip is available: \u001b[0m\u001b[31;49m24.2\u001b[0m\u001b[39;49m -> \u001b[0m\u001b[32;49m25.1.1\u001b[0m\n",
      "\u001b[1m[\u001b[0m\u001b[34;49mnotice\u001b[0m\u001b[1;39;49m]\u001b[0m\u001b[39;49m To update, run: \u001b[0m\u001b[32;49mpip install --upgrade pip\u001b[0m\n",
      "\u001b[31mERROR: Can not perform a '--user' install. User site-packages are not visible in this virtualenv.\u001b[0m\u001b[31m\n",
      "\u001b[0m"
     ]
    }
   ],
   "source": [
    "!pip3 install --user --upgrade scikit-learn\n",
    "\n",
    "import torch\n",
    "import torchvision\n",
    "import torch.nn as nn\n",
    "import numpy as np\n",
    "import scipy.stats\n",
    "import pandas as pd\n",
    "import matplotlib.pyplot as plt\n",
    "import torch.distributions as td\n",
    "from torch import optim\n",
    "from sklearn.ensemble import ExtraTreesRegressor\n",
    "from sklearn.experimental import enable_iterative_imputer  # noqa\n",
    "from sklearn.linear_model import BayesianRidge\n",
    "from sklearn.impute import IterativeImputer, SimpleImputer\n",
    "\n",
    "from torchvision import transforms\n",
    "\n"
   ]
  },
  {
   "cell_type": "markdown",
   "metadata": {},
   "source": [
    " # Loading MNIST and applying MAR"
   ]
  },
  {
   "cell_type": "code",
   "execution_count": 20,
   "metadata": {},
   "outputs": [
    {
     "name": "stdout",
     "output_type": "stream",
     "text": [
      "Bias data shape: (9600, 784)\n",
      "Unbias data shape: (2400, 784)\n"
     ]
    }
   ],
   "source": [
    "from sklearn.model_selection import train_test_split\n",
    "\n",
    "\n",
    "\n",
    "transform = torchvision.transforms.Compose([transforms.ToTensor(), transforms.Lambda(lambda x: x.view(-1))])\n",
    "mnist = torchvision.datasets.MNIST(root='.', train=True, download=True, transform=transform)\n",
    "data = mnist.data.float().view(-1, 784).numpy() / 255.0\n",
    "\n",
    "data, _ = train_test_split(\n",
    "    data, train_size=0.2, random_state=42, shuffle=True\n",
    ")\n",
    "# data = (data - data.mean()) / data.std()\n",
    "\n",
    "bias, unbias = train_test_split(data, test_size=0.2, random_state=42)\n",
    "print(f\"Bias data shape: {bias.shape}\")\n",
    "print(f\"Unbias data shape: {unbias.shape}\")\n"
   ]
  },
  {
   "cell_type": "code",
   "execution_count": 21,
   "metadata": {},
   "outputs": [],
   "source": [
    "def create_mar_mask(data):\n",
    "    masks = np.zeros((data.shape[0], data.shape[1]))\n",
    "    for i, example in enumerate(data):\n",
    "        h = (1. / (784. / 2.)) * np.sum(example[392:]) + 0.3\n",
    "        pi = np.random.binomial(2, h)\n",
    "        _mask = np.ones(example.shape[0])\n",
    "        if pi == 0:\n",
    "            _mask[196:392] = 0\n",
    "        elif pi == 1:\n",
    "            _mask[:392] = 0\n",
    "        elif pi == 2:\n",
    "            _mask[:196] = 0\n",
    "        masks[i, :] = _mask\n",
    "    return masks\n",
    "\n",
    "def create_mnar_mask(data):\n",
    "    masks = np.zeros((data.shape[0], data.shape[1]))\n",
    "    for i, example in enumerate(data):\n",
    "        h = (1. / (784. / 2.)) * np.sum(example[:392]) + 0.3\n",
    "        pi = np.random.binomial(2, h)\n",
    "        _mask = np.ones(example.shape[0])\n",
    "        if pi == 0:\n",
    "            _mask[196:392] = 0\n",
    "        elif pi == 1:\n",
    "            _mask[:392] = 0\n",
    "        elif pi == 2:\n",
    "            _mask[:196] = 0\n",
    "        masks[i, :] = _mask\n",
    "    return masks"
   ]
  },
  {
   "cell_type": "code",
   "execution_count": 22,
   "metadata": {},
   "outputs": [],
   "source": [
    "np.random.seed(1234)\n",
    "mask_bias = create_mnar_mask(bias)\n",
    "data_obs_bias = bias.copy()\n",
    "data_obs_bias[mask_bias == 0] = np.nan\n",
    "\n",
    "mask_unbias = create_mnar_mask(unbias)\n",
    "data_obs_unbias = unbias.copy()\n",
    "data_obs_unbias[mask_unbias == 0] = np.nan\n",
    "\n",
    "\n"
   ]
  },
  {
   "cell_type": "code",
   "execution_count": 23,
   "metadata": {},
   "outputs": [
    {
     "data": {
      "image/png": "[encoded data removed]",
      "text/plain": [
       "<Figure size 3000x400 with 30 Axes>"
      ]
     },
     "metadata": {},
     "output_type": "display_data"
    }
   ],
   "source": [
    "import matplotlib.pyplot as plt\n",
    "import numpy as np\n",
    "\n",
    "# %%\n",
    "n = bias.shape[0]\n",
    "indices = np.random.choice(n, 15, replace=False)\n",
    "plt.figure(figsize=(30, 4))\n",
    "for i, idx in enumerate(indices):\n",
    "    orig = bias[idx].reshape(28, 28)\n",
    "    masked_bias = data_obs_bias[idx].copy()\n",
    "    masked_bias[mask_bias[idx] == 0] = 0.5  # Use grey (0.5) for masked pixels\n",
    "    plt.subplot(2, 15, i + 1)\n",
    "    plt.imshow(orig, cmap='gray')\n",
    "    plt.axis('off')\n",
    "    if i == 0:\n",
    "        plt.ylabel('Original')\n",
    "    plt.subplot(2, 15, i + 16)\n",
    "    plt.imshow(masked_bias.reshape(28, 28), cmap='gray')\n",
    "    plt.axis('off')\n",
    "    if i == 0:\n",
    "        plt.ylabel('Masked')\n",
    "plt.show()\n"
   ]
  },
  {
   "cell_type": "markdown",
   "metadata": {},
   "source": [
    " # Preprocessing"
   ]
  },
  {
   "cell_type": "code",
   "execution_count": 24,
   "metadata": {},
   "outputs": [],
   "source": [
    "xfull = data_obs_bias\n",
    "n, p = xfull.shape\n",
    "xobs_zero = np.nan_to_num(xfull, 0)\n",
    "mask_bool = ~np.isnan(xfull)\n"
   ]
  },
  {
   "cell_type": "markdown",
   "metadata": {},
   "source": [
    " # Hyperparameters"
   ]
  },
  {
   "cell_type": "code",
   "execution_count": 25,
   "metadata": {},
   "outputs": [],
   "source": [
    "h = 128\n",
    "d = 1\n",
    "K = 20\n"
   ]
  },
  {
   "cell_type": "markdown",
   "metadata": {},
   "source": [
    " # Model building"
   ]
  },
  {
   "cell_type": "code",
   "execution_count": 26,
   "metadata": {},
   "outputs": [
    {
     "data": {
      "text/plain": [
       "Sequential(\n",
       "  (0): Linear(in_features=1, out_features=128, bias=True)\n",
       "  (1): ReLU()\n",
       "  (2): Linear(in_features=128, out_features=128, bias=True)\n",
       "  (3): ReLU()\n",
       "  (4): Linear(in_features=128, out_features=2352, bias=True)\n",
       ")"
      ]
     },
     "execution_count": 26,
     "metadata": {},
     "output_type": "execute_result"
    }
   ],
   "source": [
    "device = \"cuda:1\"\n",
    "p_z = td.Independent(td.Normal(torch.zeros(d).to(device), torch.ones(d).to(device)), 1)\n",
    "\n",
    "decoder = nn.Sequential(\n",
    "    nn.Linear(d, h),\n",
    "    nn.ReLU(),\n",
    "    nn.Linear(h, h),\n",
    "    nn.ReLU(),\n",
    "    nn.Linear(h, 3 * p),\n",
    ")\n",
    "\n",
    "encoder = nn.Sequential(\n",
    "    nn.Linear(p, h),\n",
    "    nn.ReLU(),\n",
    "    nn.Linear(h, h),\n",
    "    nn.ReLU(),\n",
    "    nn.Linear(h, 2 * d),\n",
    ")\n",
    "\n",
    "encoder.to(device)\n",
    "decoder.to(device)\n"
   ]
  },
  {
   "cell_type": "markdown",
   "metadata": {},
   "source": [
    " # MIWAE loss"
   ]
  },
  {
   "cell_type": "code",
   "execution_count": 27,
   "metadata": {},
   "outputs": [],
   "source": [
    "def miwae_loss(iota_x, mask):\n",
    "    batch = iota_x.shape[0]\n",
    "    out = encoder(iota_x)\n",
    "    q = td.Independent(td.Normal(out[..., :d], torch.nn.Softplus()(out[..., d:])), 1)\n",
    "    z = q.rsample([K]).reshape([K * batch, d])\n",
    "    dec = decoder(z)\n",
    "    mu, scale, df = dec[:, :p], torch.nn.Softplus()(dec[:, p:2*p]) + 1e-3, torch.nn.Softplus()(dec[:, 2*p:]) + 3\n",
    "    data_flat = iota_x.repeat(K, 1).reshape(-1, 1)\n",
    "    mask_flat = mask.repeat(K, 1)\n",
    "    log_px = td.StudentT(df=df.reshape(-1,1), loc=mu.reshape(-1,1), scale=scale.reshape(-1,1)).log_prob(data_flat)\n",
    "    log_px = log_px.reshape(K * batch, p)\n",
    "    log_px_obs = (log_px * mask_flat).reshape(K, batch, p).sum(-1)\n",
    "    log_pz = p_z.log_prob(z.reshape(K, batch, d))\n",
    "    log_q = q.log_prob(z.reshape(K, batch, d))\n",
    "    bound = torch.logsumexp(log_px_obs + log_pz - log_q, 0) - torch.log(torch.tensor(K, dtype=torch.float, device=iota_x.device))\n",
    "    return -bound.mean()\n"
   ]
  },
  {
   "cell_type": "code",
   "execution_count": 28,
   "metadata": {},
   "outputs": [],
   "source": [
    "optimizer = optim.Adam(list(encoder.parameters()) + list(decoder.parameters()), lr=1e-3)\n"
   ]
  },
  {
   "cell_type": "markdown",
   "metadata": {},
   "source": [
    " # Single imputation"
   ]
  },
  {
   "cell_type": "code",
   "execution_count": 29,
   "metadata": {},
   "outputs": [],
   "source": [
    "def miwae_impute(iota_x, mask, L, device):\n",
    "    batch = iota_x.shape[0]\n",
    "    out = encoder(iota_x)\n",
    "    q = td.Independent(td.Normal(out[..., :d], torch.nn.Softplus()(out[..., d:])), 1)\n",
    "    z = q.rsample([L]).reshape([L * batch, d])\n",
    "    dec = decoder(z)\n",
    "    mu, scale, df = dec[:, :p], torch.nn.Softplus()(dec[:, p:2*p]) + 1e-3, torch.nn.Softplus()(dec[:, 2*p:]) + 3\n",
    "    log_px = td.StudentT(df=df.reshape(-1,1), loc=mu.reshape(-1,1), scale=scale.reshape(-1,1)).log_prob(\n",
    "        iota_x.repeat(L,1).reshape(-1,1)\n",
    "    ).reshape(L, batch, p)\n",
    "    log_pz = p_z.log_prob(z.reshape(L, batch, d))\n",
    "    log_q = q.log_prob(z.reshape(L, batch, d))\n",
    "    w = torch.nn.functional.softmax(log_px.sum(-1) + log_pz - log_q, 0)\n",
    "    x_samples = td.Independent(td.StudentT(df=df.reshape(-1,1), loc=mu.reshape(-1,1), scale=scale.reshape(-1,1)),1).sample().reshape(L, batch, p)\n",
    "    return torch.einsum('lb,lbp->bp', w, x_samples)\n"
   ]
  },
  {
   "cell_type": "markdown",
   "metadata": {},
   "source": [
    " # Training"
   ]
  },
  {
   "cell_type": "code",
   "execution_count": null,
   "metadata": {},
   "outputs": [
    {
     "name": "stdout",
     "output_type": "stream",
     "text": [
      "Epoch 1 bound 1971.9117431640625\n",
      "Imputation MSE nan\n"
     ]
    },
    {
     "name": "stderr",
     "output_type": "stream",
     "text": [
      "/home/fvk220/fvk220/.venv/lib64/python3.11/site-packages/numpy/core/fromnumeric.py:3504: RuntimeWarning: Mean of empty slice.\n",
      "  return _methods._mean(a, axis=axis, dtype=dtype,\n",
      "/home/fvk220/fvk220/.venv/lib64/python3.11/site-packages/numpy/core/_methods.py:129: RuntimeWarning: invalid value encountered in divide\n",
      "  ret = ret.dtype.type(ret / rcount)\n"
     ]
    },
    {
     "name": "stdout",
     "output_type": "stream",
     "text": [
      "Epoch 2 bound 2169.589599609375\n",
      "Imputation MSE nan\n",
      "Epoch 3 bound 2205.52001953125\n",
      "Imputation MSE nan\n",
      "Epoch 4 bound 2300.17236328125\n",
      "Imputation MSE nan\n"
     ]
    }
   ],
   "source": [
    "xhat = xobs_zero.copy()\n",
    "mask_t = mask_bool.astype(float)\n",
    "bs = 64\n",
    "epochs = 2000\n",
    "\n",
    "for ep in range(1, epochs + 1):\n",
    "    idx = np.random.permutation(n)\n",
    "    for i in range(0, n, bs):\n",
    "        batch_id = idx[i:i+bs]\n",
    "        b_x = torch.tensor(xhat[batch_id], dtype=torch.float).to(device)\n",
    "        b_m = torch.tensor(mask_t[batch_id], dtype=torch.float).to(device)\n",
    "        optimizer.zero_grad()\n",
    "        loss = miwae_loss(b_x, b_m)\n",
    "        loss.backward()\n",
    "        optimizer.step()\n",
    "    if ep % 1 == 0:\n",
    "        with torch.no_grad():\n",
    "            total_bound = -miwae_loss(torch.tensor(xhat, dtype=torch.float).to(device), torch.tensor(mask_t, dtype=torch.float).to(device))\n",
    "            print(f'Epoch {ep} bound {total_bound.item()}')\n",
    "            xhat_tensor = miwae_impute(torch.tensor(xhat, dtype=torch.float).to(device), torch.tensor(mask_t, dtype=torch.float).to(device), 10, device)\n",
    "            xhat = xhat_tensor.cpu().numpy()\n",
    "            print(f'Imputation MSE {np.mean((xhat - bias)[~mask_bool]**2)}')\n"
   ]
  },
  {
   "cell_type": "markdown",
   "metadata": {},
   "source": [
    " # Comparisons with other methods"
   ]
  },
  {
   "cell_type": "code",
   "execution_count": null,
   "metadata": {},
   "outputs": [],
   "source": [
    "imp = IterativeImputer(max_iter=20, estimator=ExtraTreesRegressor(n_estimators=100))\n",
    "imp2 = IterativeImputer(max_iter=20, estimator=BayesianRidge())\n",
    "imp.fit(data_obs)\n",
    "imp2.fit(data_o_\n"
   ]
  }
 ],
 "metadata": {
  "kernelspec": {
   "display_name": ".venv",
   "language": "python",
   "name": "python3"
  },
  "language_info": {
   "codemirror_mode": {
    "name": "ipython",
    "version": 3
   },
   "file_extension": ".py",
   "mimetype": "text/x-python",
   "name": "python",
   "nbconvert_exporter": "python",
   "pygments_lexer": "ipython3",
   "version": "3.11.11"
  }
 },
 "nbformat": 4,
 "nbformat_minor": 2
}
